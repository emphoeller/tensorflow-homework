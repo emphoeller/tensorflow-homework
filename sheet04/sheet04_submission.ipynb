{
  "nbformat": 4,
  "nbformat_minor": 0,
  "metadata": {
    "interpreter": {
      "hash": "aee8b7b246df8f9039afb4144a1f6fd8d2ca17a180786b69acc140d282b71a49"
    },
    "kernelspec": {
      "display_name": "Python 3.9.8 64-bit",
      "language": "python",
      "name": "python3"
    },
    "language_info": {
      "name": "python",
      "version": "3.9.8"
    },
    "orig_nbformat": 4,
    "colab": {
      "name": "sheet04.3.ipynb",
      "provenance": [],
      "collapsed_sections": []
    }
  },
  "cells": [
    {
      "cell_type": "code",
      "metadata": {
        "id": "s5XCKxivgK6Z"
      },
      "source": [
        "import tensorflow_datasets as tfds\n",
        "import tensorflow as tf\n",
        "import pandas as pd\n",
        "import numpy as np"
      ],
      "execution_count": 224,
      "outputs": []
    },
    {
      "cell_type": "code",
      "metadata": {
        "id": "NJKtmFzM3nFF"
      },
      "source": [
        "# preprocess function prepares data for training\n",
        "\n",
        "def preprocess(ds, percent):\n",
        "    x = ds.sample(frac=percent, replace=False)\n",
        "    data = x\n",
        "    target = x.pop('quality')\n",
        "    return ds.drop(x.index), tf.data.Dataset.from_tensor_slices((data.values, target.values)), target "
      ],
      "execution_count": 225,
      "outputs": []
    },
    {
      "cell_type": "code",
      "metadata": {
        "id": "Uu7T1wcudnle"
      },
      "source": [
        "# load dataset\n",
        "full_ds = pd.read_csv('https://archive.ics.uci.edu/ml/machine-learning-databases/wine-quality/winequality-red.csv', delimiter= ';')\n"
      ],
      "execution_count": 226,
      "outputs": []
    },
    {
      "cell_type": "code",
      "metadata": {
        "id": "bBMLLh5AgK6b"
      },
      "source": [
        "### preprocessing ###\n",
        "\n",
        "full_ds, train_ds, train_target = preprocess(full_ds, 0.8)\n",
        "full_ds, test_ds, test_target = preprocess(full_ds, 0.5)\n",
        "full_ds, valid_ds, valid_target = preprocess(full_ds, 1)"
      ],
      "execution_count": 227,
      "outputs": []
    },
    {
      "cell_type": "code",
      "metadata": {
        "id": "nRF78OemgK6e"
      },
      "source": [
        "def make_binary(target):\n",
        "    if target >= int(median):\n",
        "        return 1\n",
        "    else:\n",
        "        return 0\n",
        "\n",
        "def prepare_dataset(ds):\n",
        "  ds = ds.map(lambda features, target:(features, make_binary(target)))\n",
        "  ds = ds.map(lambda features, target:(tf.cast(features, dtype=tf.float32), target))\n",
        "  ds = ds.cache()\n",
        "  ds = ds.shuffle(32)\n",
        "  ds = ds.batch(32)\n",
        "  ds = ds.prefetch(64)\n",
        "  return ds\n"
      ],
      "execution_count": 228,
      "outputs": []
    },
    {
      "cell_type": "code",
      "metadata": {
        "colab": {
          "base_uri": "https://localhost:8080/"
        },
        "id": "3utVuoy1gK6e",
        "outputId": "d97272b9-d16e-4020-9344-51a1672a995d"
      },
      "source": [
        "train_ds = prepare_dataset(train_ds)\n",
        "print(train_ds)\n",
        "valid_ds = prepare_dataset(valid_ds)\n",
        "print(valid_ds)\n",
        "test_ds = prepare_dataset(test_ds)\n",
        "print(test_ds)      "
      ],
      "execution_count": 229,
      "outputs": [
        {
          "output_type": "stream",
          "name": "stdout",
          "text": [
            "<PrefetchDataset shapes: ((None, 11), (None,)), types: (tf.float32, tf.int32)>\n",
            "<PrefetchDataset shapes: ((None, 11), (None,)), types: (tf.float32, tf.int32)>\n",
            "<PrefetchDataset shapes: ((None, 11), (None,)), types: (tf.float32, tf.int32)>\n"
          ]
        }
      ]
    },
    {
      "cell_type": "code",
      "metadata": {
        "id": "VEM-snsRgK6f"
      },
      "source": [
        "class WineModel(tf.keras.Model):\n",
        "\n",
        "    def __init__(self):\n",
        "        super(WineModel, self).__init__()\n",
        "        self.dense1 = tf.keras.layers.Dense(32, activation=tf.nn.sigmoid)\n",
        "        self.dense2 = tf.keras.layers.Dense(32, activation=tf.nn.sigmoid)\n",
        "        self.output_layer = tf.keras.layers.Dense(1, activation=tf.nn.sigmoid, use_bias=False)\n",
        "\n",
        "    def call(self, inputs):\n",
        "        return self.output_layer(self.dense2(self.dense1(inputs)))"
      ],
      "execution_count": 230,
      "outputs": []
    },
    {
      "cell_type": "code",
      "metadata": {
        "id": "INYio7wKgK6f"
      },
      "source": [
        "def train_step(model, input, target, loss_function, optimizer):\n",
        "  # loss_object and optimizer_object are instances of respective tensorflow classes\n",
        "  with tf.GradientTape() as tape:\n",
        "    prediction = model(input)\n",
        "    loss = loss_function(target, prediction)\n",
        "  gradients = tape.gradient(loss, model.trainable_variables)\n",
        "  optimizer.apply_gradients(zip(gradients, model.trainable_variables))\n",
        "  return loss\n",
        "\n",
        "def test(model, test_data, loss_function):\n",
        "  # test over complete test data\n",
        "\n",
        "  test_accuracy_aggregator = []\n",
        "  test_loss_aggregator = []\n",
        "  for (input, target) in test_data:\n",
        "    prediction = model(input)\n",
        "    sample_test_loss = loss_function(target, prediction)\n",
        "    sample_test_accuracy =  (target == np.round(prediction))\n",
        "    sample_test_accuracy = np.mean(sample_test_accuracy)\n",
        "    test_loss_aggregator.append(sample_test_loss.numpy())\n",
        "    test_accuracy_aggregator.append(np.mean(sample_test_accuracy))\n",
        "\n",
        "  test_loss = tf.reduce_mean(test_loss_aggregator)\n",
        "  test_accuracy = tf.reduce_mean(test_accuracy_aggregator)\n",
        "\n",
        "  return test_loss, test_accuracy"
      ],
      "execution_count": 231,
      "outputs": []
    },
    {
      "cell_type": "code",
      "metadata": {
        "colab": {
          "base_uri": "https://localhost:8080/"
        },
        "id": "wpdjwxvhgK6g",
        "outputId": "55ba3c59-8d75-46c8-b94e-71806ac230da"
      },
      "source": [
        "### Testing - BASELINE MODEL with SGD ###\n",
        "\n",
        "### Hyperparameters\n",
        "num_epochs = 10\n",
        "learning_rate = 0.1\n",
        "\n",
        "# Initialize the model.\n",
        "model = WineModel()\n",
        "# Initialize the loss: categorical cross entropy. Check out 'tf.keras.losses'.\n",
        "cross_entropy_loss = tf.keras.losses.BinaryCrossentropy()\n",
        "# Initialize the optimizer: SGD with default parameters. Check out 'tf.keras.optimizers'\n",
        "optimizer = tf.keras.optimizers.SGD(learning_rate)\n",
        "\n",
        "# Initialize lists for later visualization.\n",
        "train_losses1 = []\n",
        "train_accuracies1 = []\n",
        "\n",
        "test_losses1 = []\n",
        "test_accuracies1 = []\n",
        "\n",
        "#testing once before we begin\n",
        "test_loss, test_accuracy = test(model, test_ds, cross_entropy_loss)\n",
        "test_losses1.append(test_loss)\n",
        "test_accuracies1.append(test_accuracy)\n",
        "\n",
        "# We train for num_epochs epochs.\n",
        "for epoch in range(num_epochs):\n",
        "    \n",
        "    #training (and checking in with training)\n",
        "    epoch_loss_agg = []\n",
        "    for input, target in train_ds:\n",
        "        train_loss = train_step(model, input, target, cross_entropy_loss, optimizer)\n",
        "        epoch_loss_agg.append(train_loss)\n",
        "  \n",
        "    #track training loss\n",
        "    train_losses1.append(tf.reduce_mean(epoch_loss_agg))\n",
        "\n",
        "    #testing, so we can track accuracy and test loss\n",
        "    test_loss, test_accuracy = test(model, test_ds, cross_entropy_loss)\n",
        "\n",
        "    test_losses1.append(test_loss)\n",
        "    test_accuracies1.append(test_accuracy)\n",
        "\n",
        "    print(f' After Epoch: {str(epoch+1)} Test accuracy: {test_accuracies1[epoch]}') \n",
        "\n",
        "validation_loss, validation_accuracy = test(model, test_ds, cross_entropy_loss)\n",
        "print()\n",
        "print(f'After Training of {str(epoch+1)} Epochs validation accuracy: {validation_accuracy}')"
      ],
      "execution_count": 232,
      "outputs": [
        {
          "output_type": "stream",
          "name": "stdout",
          "text": [
            " After Epoch: 1 Test accuracy: 0.55\n",
            " After Epoch: 2 Test accuracy: 0.55\n",
            " After Epoch: 3 Test accuracy: 0.520703125\n",
            " After Epoch: 4 Test accuracy: 0.53125\n",
            " After Epoch: 5 Test accuracy: 0.5234375\n",
            " After Epoch: 6 Test accuracy: 0.51875\n",
            " After Epoch: 7 Test accuracy: 0.515625\n",
            " After Epoch: 8 Test accuracy: 0.50703125\n",
            " After Epoch: 9 Test accuracy: 0.512109375\n",
            " After Epoch: 10 Test accuracy: 0.51484375\n",
            "\n",
            "After Training of 10 Epochs validation accuracy: 0.510546875\n"
          ]
        }
      ]
    },
    {
      "cell_type": "code",
      "metadata": {
        "colab": {
          "base_uri": "https://localhost:8080/",
          "height": 282
        },
        "id": "ft3-bFpN_dtp",
        "outputId": "8d80b44c-aa17-40b2-d814-bfcbd1ed985c"
      },
      "source": [
        "import matplotlib.pyplot as plt\n",
        "\n",
        "# Visualize accuracy and loss for training and test data.\n",
        "plt.figure()\n",
        "line1, = plt.plot(train_losses1)\n",
        "line2, = plt.plot(test_losses1)\n",
        "line3, = plt.plot(test_accuracies1)\n",
        "plt.xlabel(\"Epochs\")\n",
        "plt.ylabel(\"Loss/Accuracy\")\n",
        "plt.legend((line1, line2, line3),(\"training loss\", \"test loss\", \"test accuracy\"))\n",
        "plt.show()"
      ],
      "execution_count": 233,
      "outputs": [
        {
          "output_type": "display_data",
          "data": {
            "image/png": "[encoded data removed]",
            "text/plain": [
              "<Figure size 432x288 with 1 Axes>"
            ]
          },
          "metadata": {
            "needs_background": "light"
          }
        }
      ]
    },
    {
      "cell_type": "code",
      "metadata": {
        "colab": {
          "base_uri": "https://localhost:8080/"
        },
        "id": "PgPwkZPErPXz",
        "outputId": "0303778a-b31b-4822-b204-02b3d40a936a"
      },
      "source": [
        "### Testing - ADAM MODEL ###\n",
        "\n",
        "### Hyperparameters\n",
        "num_epochs = 10\n",
        "learning_rate = 0.1\n",
        "\n",
        "# Initialize the model.\n",
        "model = WineModel()\n",
        "# Initialize the loss: categorical cross entropy. Check out 'tf.keras.losses'.\n",
        "cross_entropy_loss = tf.keras.losses.BinaryCrossentropy()\n",
        "# Initialize the optimizer: SGD with default parameters. Check out 'tf.keras.optimizers'\n",
        "optimizer = tf.keras.optimizers.Adam(learning_rate)\n",
        "\n",
        "# Initialize lists for later visualization.\n",
        "train_losses2 = []\n",
        "train_accuracies2 = []\n",
        "\n",
        "test_losses2 = []\n",
        "test_accuracies2 = []\n",
        "\n",
        "#testing once before we begin\n",
        "test_loss, test_accuracy = test(model, test_ds, cross_entropy_loss)\n",
        "test_losses2.append(test_loss)\n",
        "test_accuracies2.append(test_accuracy)\n",
        "\n",
        "#check how model performs on train data once before we begin\n",
        "\n",
        "train_loss, train_accuracy = test(model, train_ds, cross_entropy_loss)\n",
        "train_losses2.append(train_loss)\n",
        "train_accuracies2.append(train_accuracy)\n",
        "\n",
        "# We train for num_epochs epochs.\n",
        "for epoch in range(num_epochs):\n",
        "    \n",
        "\n",
        "    #training (and checking in with training)\n",
        "    epoch_loss_agg = []\n",
        "    for input, target in train_ds:\n",
        "        train_loss = train_step(model, input, target, cross_entropy_loss, optimizer)\n",
        "        epoch_loss_agg.append(train_loss)\n",
        "  \n",
        "    #track training loss\n",
        "    train_losses2.append(tf.reduce_mean(epoch_loss_agg))\n",
        "\n",
        "    #testing, so we can track accuracy and test loss\n",
        "    test_loss, test_accuracy = test(model, test_ds, cross_entropy_loss)\n",
        "\n",
        "    test_losses2.append(test_loss)\n",
        "    test_accuracies2.append(test_accuracy)\n",
        "\n",
        "    print(f' After Epoch: {str(epoch+1)} Test accuracy:{test_accuracies2[epoch]}') \n",
        "\n",
        "validation_loss, validation_accuracy = test(model, test_ds, cross_entropy_loss)\n",
        "print()\n",
        "print(f' After Training of {str(epoch+1)} Epochs validation accuracy:{validation_accuracy}')"
      ],
      "execution_count": 234,
      "outputs": [
        {
          "output_type": "stream",
          "name": "stdout",
          "text": [
            " After Epoch: 1 Test accuracy:0.55\n",
            " After Epoch: 2 Test accuracy:0.55\n",
            " After Epoch: 3 Test accuracy:0.5296875\n",
            " After Epoch: 4 Test accuracy:0.541796875\n",
            " After Epoch: 5 Test accuracy:0.5265625\n",
            " After Epoch: 6 Test accuracy:0.535546875\n",
            " After Epoch: 7 Test accuracy:0.55\n",
            " After Epoch: 8 Test accuracy:0.519921875\n",
            " After Epoch: 9 Test accuracy:0.537890625\n",
            " After Epoch: 10 Test accuracy:0.540625\n",
            "\n",
            " After Training of 10 Epochs validation accuracy:0.5125\n"
          ]
        }
      ]
    },
    {
      "cell_type": "code",
      "metadata": {
        "colab": {
          "base_uri": "https://localhost:8080/",
          "height": 278
        },
        "id": "FPxeUbbbjkW-",
        "outputId": "7cd5be2b-33cb-4a93-9c6a-3b9967567be4"
      },
      "source": [
        "# Visualize accuracy and loss for training and test data.\n",
        "plt.figure()\n",
        "line1, = plt.plot(train_losses)\n",
        "line2, = plt.plot(test_losses)\n",
        "line3, = plt.plot(test_accuracies)\n",
        "plt.xlabel(\"Epochs\")\n",
        "plt.ylabel(\"Loss/Accuracy\")\n",
        "plt.legend((line1, line2, line3),(\"training loss\", \"test loss\", \"test accuracy\"))\n",
        "plt.show()"
      ],
      "execution_count": 235,
      "outputs": [
        {
          "output_type": "display_data",
          "data": {
            "image/png": "[encoded data removed]",
            "text/plain": [
              "<Figure size 432x288 with 1 Axes>"
            ]
          },
          "metadata": {
            "needs_background": "light"
          }
        }
      ]
    },
    {
      "cell_type": "code",
      "metadata": {
        "id": "EzTPP7jPrPFl",
        "colab": {
          "base_uri": "https://localhost:8080/"
        },
        "outputId": "d079982a-ac41-427f-cef0-11f2f71f0280"
      },
      "source": [
        "### Testing - RMSprop MODEL ###\n",
        "\n",
        "### Hyperparameters\n",
        "num_epochs = 10\n",
        "learning_rate = 0.1\n",
        "\n",
        "# Initialize the model.\n",
        "model = WineModel()\n",
        "# Initialize the loss: categorical cross entropy. Check out 'tf.keras.losses'.\n",
        "cross_entropy_loss = tf.keras.losses.BinaryCrossentropy()\n",
        "# Initialize the optimizer: SGD with default parameters. Check out 'tf.keras.optimizers'\n",
        "optimizer = tf.keras.optimizers.RMSprop(learning_rate)\n",
        "\n",
        "# Initialize lists for later visualization.\n",
        "train_losses = []\n",
        "train_accuracies = []\n",
        "\n",
        "test_losses = []\n",
        "test_accuracies = []\n",
        "\n",
        "#testing once before we begin\n",
        "test_loss, test_accuracy = test(model, test_ds, cross_entropy_loss)\n",
        "test_losses.append(test_loss)\n",
        "test_accuracies.append(test_accuracy)\n",
        "\n",
        "#check how model performs on train data once before we begin\n",
        "\n",
        "train_loss, train_accuracy = test(model, train_ds, cross_entropy_loss)\n",
        "train_losses.append(train_loss)\n",
        "train_accuracies.append(train_accuracy)\n",
        "\n",
        "# We train for num_epochs epochs.\n",
        "for epoch in range(num_epochs):\n",
        "    \n",
        "\n",
        "    #training (and checking in with training)\n",
        "    epoch_loss_agg = []\n",
        "    for input, target in train_ds:\n",
        "        train_loss = train_step(model, input, target, cross_entropy_loss, optimizer)\n",
        "        epoch_loss_agg.append(train_loss)\n",
        "  \n",
        "    #track training loss\n",
        "    train_losses.append(tf.reduce_mean(epoch_loss_agg))\n",
        "\n",
        "    #testing, so we can track accuracy and test loss\n",
        "    test_loss, test_accuracy = test(model, test_ds, cross_entropy_loss)\n",
        "\n",
        "    test_losses.append(test_loss)\n",
        "    test_accuracies.append(test_accuracy)\n",
        "    print(f' After Epoch: {str(epoch+1)} Test accuracy is at {test_accuracies[epoch]}') \n",
        "\n",
        "validation_loss, validation_accuracy = test(model, test_ds, cross_entropy_loss)\n",
        "print()\n",
        "print( f'After Training of {str(epoch+1)} Epochs validation accuracy is at {validation_accuracy}')"
      ],
      "execution_count": 236,
      "outputs": [
        {
          "output_type": "stream",
          "name": "stdout",
          "text": [
            " After Epoch: 1 Test accuracy is at 0.55\n",
            " After Epoch: 2 Test accuracy is at 0.55\n",
            " After Epoch: 3 Test accuracy is at 0.45\n",
            " After Epoch: 4 Test accuracy is at 0.55\n",
            " After Epoch: 5 Test accuracy is at 0.55\n",
            " After Epoch: 6 Test accuracy is at 0.45\n",
            " After Epoch: 7 Test accuracy is at 0.55\n",
            " After Epoch: 8 Test accuracy is at 0.55\n",
            " After Epoch: 9 Test accuracy is at 0.55\n",
            " After Epoch: 10 Test accuracy is at 0.55\n",
            "\n",
            "After Training of 10 Epochs validation accuracy is at 0.55\n"
          ]
        }
      ]
    },
    {
      "cell_type": "code",
      "metadata": {
        "colab": {
          "base_uri": "https://localhost:8080/",
          "height": 278
        },
        "id": "F4HbbeasjuK8",
        "outputId": "40de456a-7e08-4943-e0ef-462573e5b3fc"
      },
      "source": [
        "# Visualize accuracy and loss for training and test data.\n",
        "plt.figure()\n",
        "line1, = plt.plot(train_losses)\n",
        "line2, = plt.plot(test_losses)\n",
        "line3, = plt.plot(test_accuracies)\n",
        "plt.xlabel(\"Epochs\")\n",
        "plt.ylabel(\"Loss/Accuracy\")\n",
        "plt.legend((line1, line2, line3),(\"training loss\", \"test loss\", \"test accuracy\"))\n",
        "plt.show()"
      ],
      "execution_count": 237,
      "outputs": [
        {
          "output_type": "display_data",
          "data": {
            "image/png": "[encoded data removed]",
            "text/plain": [
              "<Figure size 432x288 with 1 Axes>"
            ]
          },
          "metadata": {
            "needs_background": "light"
          }
        }
      ]
    },
    {
      "cell_type": "code",
      "metadata": {
        "colab": {
          "base_uri": "https://localhost:8080/"
        },
        "id": "bGxsi6gvcrjm",
        "outputId": "f1a49738-29a9-4b14-c73d-03e04bf3e05f"
      },
      "source": [
        "### Testing - RMSprop MODEL ###\n",
        "\n",
        "### Hyperparameters\n",
        "num_epochs = 10\n",
        "learning_rate = 0.1\n",
        "\n",
        "# Initialize the model.\n",
        "model = WineModel()\n",
        "# Initialize the loss: categorical cross entropy. Check out 'tf.keras.losses'.\n",
        "cross_entropy_loss = tf.keras.losses.BinaryCrossentropy()\n",
        "# Initialize the optimizer: SGD with default parameters. Check out 'tf.keras.optimizers'\n",
        "optimizer = tf.keras.optimizers.RMSprop(learning_rate)\n",
        "\n",
        "# Initialize lists for later visualization.\n",
        "train_losses = []\n",
        "train_accuracies = []\n",
        "\n",
        "test_losses = []\n",
        "test_accuracies = []\n",
        "\n",
        "#testing once before we begin\n",
        "test_loss, test_accuracy = test(model, test_ds, cross_entropy_loss)\n",
        "test_losses.append(test_loss)\n",
        "test_accuracies.append(test_accuracy)\n",
        "\n",
        "#check how model performs on train data once before we begin\n",
        "\n",
        "train_loss, train_accuracy = test(model, train_ds, cross_entropy_loss)\n",
        "train_losses.append(train_loss)\n",
        "train_accuracies.append(train_accuracy)\n",
        "\n",
        "# We train for num_epochs epochs.\n",
        "for epoch in range(num_epochs):\n",
        "    \n",
        "\n",
        "    #training (and checking in with training)\n",
        "    epoch_loss_agg = []\n",
        "    for input, target in train_ds:\n",
        "        train_loss = train_step(model, input, target, cross_entropy_loss, optimizer)\n",
        "        epoch_loss_agg.append(train_loss)\n",
        "  \n",
        "    #track training loss\n",
        "    train_losses.append(tf.reduce_mean(epoch_loss_agg))\n",
        "\n",
        "    #testing, so we can track accuracy and test loss\n",
        "    test_loss, test_accuracy = test(model, test_ds, cross_entropy_loss)\n",
        "\n",
        "    test_losses.append(test_loss)\n",
        "    test_accuracies.append(test_accuracy)\n",
        "    print(f' After Epoch: {str(epoch+1)} Test accuracy is at {test_accuracies[epoch]}') \n",
        "\n",
        "validation_loss, validation_accuracy = test(model, test_ds, cross_entropy_loss)\n",
        "print()\n",
        "print( f'After Training of {str(epoch+1)} Epochs validation accuracy is at {validation_accuracy}')"
      ],
      "execution_count": 238,
      "outputs": [
        {
          "output_type": "stream",
          "name": "stdout",
          "text": [
            " After Epoch: 1 Test accuracy is at 0.55\n",
            " After Epoch: 2 Test accuracy is at 0.45\n",
            " After Epoch: 3 Test accuracy is at 0.55\n",
            " After Epoch: 4 Test accuracy is at 0.55\n",
            " After Epoch: 5 Test accuracy is at 0.55\n",
            " After Epoch: 6 Test accuracy is at 0.55\n",
            " After Epoch: 7 Test accuracy is at 0.55\n",
            " After Epoch: 8 Test accuracy is at 0.45\n",
            " After Epoch: 9 Test accuracy is at 0.55\n",
            " After Epoch: 10 Test accuracy is at 0.55\n",
            "\n",
            "After Training of 10 Epochs validation accuracy is at 0.55\n"
          ]
        }
      ]
    },
    {
      "cell_type": "code",
      "metadata": {
        "id": "TAhVABBumChd"
      },
      "source": [
        ""
      ],
      "execution_count": 238,
      "outputs": []
    }
  ]
}